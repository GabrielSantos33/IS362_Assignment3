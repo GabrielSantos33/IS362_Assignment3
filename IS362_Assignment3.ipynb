{
 "cells": [
  {
   "cell_type": "markdown",
   "metadata": {},
   "source": [
    "<h1><center>A BICYCLE'S ODOMETER</center></h1>"
   ]
  },
  {
   "cell_type": "markdown",
   "metadata": {},
   "source": [
    "###### Suppose you have ridden a bicycle from New York City to Key West, Florida. Your bicycle odometer shows the total miles, which you have dutifully logged at the end of each day with paper and pencil. Your first two entries might be 55 and 120, indicating that you rode your bike 55 miles on day 1 and 65 miles on day 2.\n",
    "\n",
    "###### Your task is to create a pandas Series object that holds the cumulative miles at the end of each day, then use your Python skills to show the total miles that you rode each day. Consider how you should best present this information in a Jupyter notebook. You should save your Jupyter Notebook to your GitHub repository, and provide a link in your assignment submission.\n"
   ]
  },
  {
   "cell_type": "code",
   "execution_count": 1,
   "metadata": {},
   "outputs": [],
   "source": [
    "import pandas as pd\n",
    "import numpy as np\n",
    "from pandas import Series, DataFrame\n",
    "import datetime"
   ]
  },
  {
   "cell_type": "markdown",
   "metadata": {},
   "source": [
    "### From New York to Key West point theres about 1652 miles "
   ]
  },
  {
   "cell_type": "code",
   "execution_count": 2,
   "metadata": {},
   "outputs": [],
   "source": [
    "dates = pd.date_range('2014-07-01', '2014-07-27')\n",
    "miles = pd.Series([55,120,176,228,301,366,423,484,545,607,669,730,792,853,915,976,1037,1099,1160,1222,1283,1345,1406,1468,1529,\n",
    "1591,1652], index = dates)"
   ]
  },
  {
   "cell_type": "markdown",
   "metadata": {},
   "source": [
    "### We get the following data..."
   ]
  },
  {
   "cell_type": "code",
   "execution_count": 3,
   "metadata": {},
   "outputs": [
    {
     "name": "stdout",
     "output_type": "stream",
     "text": [
      "2014-07-01      55\n",
      "2014-07-02     120\n",
      "2014-07-03     176\n",
      "2014-07-04     228\n",
      "2014-07-05     301\n",
      "2014-07-06     366\n",
      "2014-07-07     423\n",
      "2014-07-08     484\n",
      "2014-07-09     545\n",
      "2014-07-10     607\n",
      "2014-07-11     669\n",
      "2014-07-12     730\n",
      "2014-07-13     792\n",
      "2014-07-14     853\n",
      "2014-07-15     915\n",
      "2014-07-16     976\n",
      "2014-07-17    1037\n",
      "2014-07-18    1099\n",
      "2014-07-19    1160\n",
      "2014-07-20    1222\n",
      "2014-07-21    1283\n",
      "2014-07-22    1345\n",
      "2014-07-23    1406\n",
      "2014-07-24    1468\n",
      "2014-07-25    1529\n",
      "2014-07-26    1591\n",
      "2014-07-27    1652\n",
      "Freq: D, dtype: int64\n"
     ]
    }
   ],
   "source": [
    "print (miles)"
   ]
  },
  {
   "cell_type": "markdown",
   "metadata": {},
   "source": [
    "### Shows the total miles rode each day"
   ]
  },
  {
   "cell_type": "code",
   "execution_count": 4,
   "metadata": {},
   "outputs": [
    {
     "name": "stdout",
     "output_type": "stream",
     "text": [
      "2014-07-01 00:00:00: 55 Daily Miles\n",
      "2014-07-02 00:00:00: 65 Daily Miles\n",
      "2014-07-03 00:00:00: 56 Daily Miles\n",
      "2014-07-04 00:00:00: 52 Daily Miles\n",
      "2014-07-05 00:00:00: 73 Daily Miles\n",
      "2014-07-06 00:00:00: 65 Daily Miles\n",
      "2014-07-07 00:00:00: 57 Daily Miles\n",
      "2014-07-08 00:00:00: 61 Daily Miles\n",
      "2014-07-09 00:00:00: 61 Daily Miles\n",
      "2014-07-10 00:00:00: 62 Daily Miles\n",
      "2014-07-11 00:00:00: 62 Daily Miles\n",
      "2014-07-12 00:00:00: 61 Daily Miles\n",
      "2014-07-13 00:00:00: 62 Daily Miles\n",
      "2014-07-14 00:00:00: 61 Daily Miles\n",
      "2014-07-15 00:00:00: 62 Daily Miles\n",
      "2014-07-16 00:00:00: 61 Daily Miles\n",
      "2014-07-17 00:00:00: 61 Daily Miles\n",
      "2014-07-18 00:00:00: 62 Daily Miles\n",
      "2014-07-19 00:00:00: 61 Daily Miles\n",
      "2014-07-20 00:00:00: 62 Daily Miles\n",
      "2014-07-21 00:00:00: 61 Daily Miles\n",
      "2014-07-22 00:00:00: 62 Daily Miles\n",
      "2014-07-23 00:00:00: 61 Daily Miles\n",
      "2014-07-24 00:00:00: 62 Daily Miles\n",
      "2014-07-25 00:00:00: 61 Daily Miles\n",
      "2014-07-26 00:00:00: 62 Daily Miles\n",
      "2014-07-27 00:00:00: 61 Daily Miles\n"
     ]
    }
   ],
   "source": [
    "miles_per_day = {}\n",
    "yesterdays_odometer = 0\n",
    "for day, odometer_miles in miles.items():    \n",
    "    todays_miles = odometer_miles - yesterdays_odometer    \n",
    "    miles_per_day[day] = todays_miles\n",
    "    print (str(day) + ': ' + str(todays_miles) + ' Daily Miles')\n",
    "    yesterdays_odometer = odometer_miles"
   ]
  },
  {
   "cell_type": "markdown",
   "metadata": {},
   "source": [
    "### Shows the last day and miles rode"
   ]
  },
  {
   "cell_type": "code",
   "execution_count": 5,
   "metadata": {},
   "outputs": [
    {
     "name": "stdout",
     "output_type": "stream",
     "text": [
      "2014-07-27 00:00:00: 61 miles\n"
     ]
    }
   ],
   "source": [
    "print (str(day) + ': ' + str(todays_miles) + ' miles', )\n",
    "yesterdays_odometer = odometer_miles"
   ]
  },
  {
   "cell_type": "markdown",
   "metadata": {},
   "source": [
    "### Then we will show cumulative miles"
   ]
  },
  {
   "cell_type": "code",
   "execution_count": 6,
   "metadata": {},
   "outputs": [],
   "source": [
    "miles_cumulative=list(zip(dates,miles))\n",
    "cumulative = pd.DataFrame(data = miles_cumulative, columns=['Days', 'Miles'])"
   ]
  },
  {
   "cell_type": "code",
   "execution_count": 7,
   "metadata": {},
   "outputs": [
    {
     "data": {
      "text/html": [
       "<div>\n",
       "<style scoped>\n",
       "    .dataframe tbody tr th:only-of-type {\n",
       "        vertical-align: middle;\n",
       "    }\n",
       "\n",
       "    .dataframe tbody tr th {\n",
       "        vertical-align: top;\n",
       "    }\n",
       "\n",
       "    .dataframe thead th {\n",
       "        text-align: right;\n",
       "    }\n",
       "</style>\n",
       "<table border=\"1\" class=\"dataframe\">\n",
       "  <thead>\n",
       "    <tr style=\"text-align: right;\">\n",
       "      <th></th>\n",
       "      <th>Days</th>\n",
       "      <th>Miles</th>\n",
       "    </tr>\n",
       "  </thead>\n",
       "  <tbody>\n",
       "    <tr>\n",
       "      <th>0</th>\n",
       "      <td>2014-07-01</td>\n",
       "      <td>55</td>\n",
       "    </tr>\n",
       "    <tr>\n",
       "      <th>1</th>\n",
       "      <td>2014-07-02</td>\n",
       "      <td>120</td>\n",
       "    </tr>\n",
       "    <tr>\n",
       "      <th>2</th>\n",
       "      <td>2014-07-03</td>\n",
       "      <td>176</td>\n",
       "    </tr>\n",
       "    <tr>\n",
       "      <th>3</th>\n",
       "      <td>2014-07-04</td>\n",
       "      <td>228</td>\n",
       "    </tr>\n",
       "    <tr>\n",
       "      <th>4</th>\n",
       "      <td>2014-07-05</td>\n",
       "      <td>301</td>\n",
       "    </tr>\n",
       "    <tr>\n",
       "      <th>5</th>\n",
       "      <td>2014-07-06</td>\n",
       "      <td>366</td>\n",
       "    </tr>\n",
       "    <tr>\n",
       "      <th>6</th>\n",
       "      <td>2014-07-07</td>\n",
       "      <td>423</td>\n",
       "    </tr>\n",
       "    <tr>\n",
       "      <th>7</th>\n",
       "      <td>2014-07-08</td>\n",
       "      <td>484</td>\n",
       "    </tr>\n",
       "    <tr>\n",
       "      <th>8</th>\n",
       "      <td>2014-07-09</td>\n",
       "      <td>545</td>\n",
       "    </tr>\n",
       "    <tr>\n",
       "      <th>9</th>\n",
       "      <td>2014-07-10</td>\n",
       "      <td>607</td>\n",
       "    </tr>\n",
       "    <tr>\n",
       "      <th>10</th>\n",
       "      <td>2014-07-11</td>\n",
       "      <td>669</td>\n",
       "    </tr>\n",
       "    <tr>\n",
       "      <th>11</th>\n",
       "      <td>2014-07-12</td>\n",
       "      <td>730</td>\n",
       "    </tr>\n",
       "    <tr>\n",
       "      <th>12</th>\n",
       "      <td>2014-07-13</td>\n",
       "      <td>792</td>\n",
       "    </tr>\n",
       "    <tr>\n",
       "      <th>13</th>\n",
       "      <td>2014-07-14</td>\n",
       "      <td>853</td>\n",
       "    </tr>\n",
       "    <tr>\n",
       "      <th>14</th>\n",
       "      <td>2014-07-15</td>\n",
       "      <td>915</td>\n",
       "    </tr>\n",
       "    <tr>\n",
       "      <th>15</th>\n",
       "      <td>2014-07-16</td>\n",
       "      <td>976</td>\n",
       "    </tr>\n",
       "    <tr>\n",
       "      <th>16</th>\n",
       "      <td>2014-07-17</td>\n",
       "      <td>1037</td>\n",
       "    </tr>\n",
       "    <tr>\n",
       "      <th>17</th>\n",
       "      <td>2014-07-18</td>\n",
       "      <td>1099</td>\n",
       "    </tr>\n",
       "    <tr>\n",
       "      <th>18</th>\n",
       "      <td>2014-07-19</td>\n",
       "      <td>1160</td>\n",
       "    </tr>\n",
       "    <tr>\n",
       "      <th>19</th>\n",
       "      <td>2014-07-20</td>\n",
       "      <td>1222</td>\n",
       "    </tr>\n",
       "    <tr>\n",
       "      <th>20</th>\n",
       "      <td>2014-07-21</td>\n",
       "      <td>1283</td>\n",
       "    </tr>\n",
       "    <tr>\n",
       "      <th>21</th>\n",
       "      <td>2014-07-22</td>\n",
       "      <td>1345</td>\n",
       "    </tr>\n",
       "    <tr>\n",
       "      <th>22</th>\n",
       "      <td>2014-07-23</td>\n",
       "      <td>1406</td>\n",
       "    </tr>\n",
       "    <tr>\n",
       "      <th>23</th>\n",
       "      <td>2014-07-24</td>\n",
       "      <td>1468</td>\n",
       "    </tr>\n",
       "    <tr>\n",
       "      <th>24</th>\n",
       "      <td>2014-07-25</td>\n",
       "      <td>1529</td>\n",
       "    </tr>\n",
       "    <tr>\n",
       "      <th>25</th>\n",
       "      <td>2014-07-26</td>\n",
       "      <td>1591</td>\n",
       "    </tr>\n",
       "    <tr>\n",
       "      <th>26</th>\n",
       "      <td>2014-07-27</td>\n",
       "      <td>1652</td>\n",
       "    </tr>\n",
       "  </tbody>\n",
       "</table>\n",
       "</div>"
      ],
      "text/plain": [
       "         Days  Miles\n",
       "0  2014-07-01     55\n",
       "1  2014-07-02    120\n",
       "2  2014-07-03    176\n",
       "3  2014-07-04    228\n",
       "4  2014-07-05    301\n",
       "5  2014-07-06    366\n",
       "6  2014-07-07    423\n",
       "7  2014-07-08    484\n",
       "8  2014-07-09    545\n",
       "9  2014-07-10    607\n",
       "10 2014-07-11    669\n",
       "11 2014-07-12    730\n",
       "12 2014-07-13    792\n",
       "13 2014-07-14    853\n",
       "14 2014-07-15    915\n",
       "15 2014-07-16    976\n",
       "16 2014-07-17   1037\n",
       "17 2014-07-18   1099\n",
       "18 2014-07-19   1160\n",
       "19 2014-07-20   1222\n",
       "20 2014-07-21   1283\n",
       "21 2014-07-22   1345\n",
       "22 2014-07-23   1406\n",
       "23 2014-07-24   1468\n",
       "24 2014-07-25   1529\n",
       "25 2014-07-26   1591\n",
       "26 2014-07-27   1652"
      ]
     },
     "execution_count": 7,
     "metadata": {},
     "output_type": "execute_result"
    }
   ],
   "source": [
    "cumulative"
   ]
  }
 ],
 "metadata": {
  "kernelspec": {
   "display_name": "Python 3",
   "language": "python",
   "name": "python3"
  },
  "language_info": {
   "codemirror_mode": {
    "name": "ipython",
    "version": 3
   },
   "file_extension": ".py",
   "mimetype": "text/x-python",
   "name": "python",
   "nbconvert_exporter": "python",
   "pygments_lexer": "ipython3",
   "version": "3.8.3"
  }
 },
 "nbformat": 4,
 "nbformat_minor": 4
}
